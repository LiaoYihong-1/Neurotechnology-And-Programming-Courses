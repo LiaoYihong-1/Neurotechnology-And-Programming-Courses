{
  "nbformat": 4,
  "nbformat_minor": 0,
  "metadata": {
    "colab": {
      "name": "Lab2.ipynb",
      "provenance": [],
      "collapsed_sections": []
    },
    "kernelspec": {
      "display_name": "Python 3",
      "name": "python3"
    },
    "language_info": {
      "name": "python"
    }
  },
  "cells": [
    {
      "cell_type": "markdown",
      "metadata": {
        "id": "LF8GjRbUNJXo"
      },
      "source": [
        "# Задание 0 (1 балл)"
      ]
    },
    {
      "cell_type": "markdown",
      "metadata": {
        "id": "JHNIGB9xJihd"
      },
      "source": [
        "Данные, которые нужно использовать для выполнения задания, возьмите [здесь](https://www.kaggle.com/parulpandey/palmer-archipelago-antarctica-penguin-data).\n",
        "\n",
        "Данные расположены в двух таблицах: **penguins_iter** и **penguiuns_size**. Для этой лабораторной работы вам понадобится только таблица **penguiuns_size**.\n",
        "\n",
        "**penguins_size** содержит следующую информацию:\n",
        "* `species`: вид, к которому относится пингвин\n",
        "* `culmen_length_mm`: длина клюва\n",
        "* `culmen_depth_mm`: глубина клюва\n",
        "* `flipper_length_mm`: длина ласт\n",
        "* `body_mass_g`: масса тела\n",
        "* `island`: название острова, на котором пингвин обитает\n",
        "* `sex`: пол пингвина\n",
        "\n"
      ]
    },
    {
      "cell_type": "markdown",
      "metadata": {
        "id": "mY64YTl_M8Ch"
      },
      "source": [
        "1. Загрузите файл с данными к себе на Гугл диск и подключите его в Google Colab через `mount.drive`.\n",
        "2. Выведите общую статистику по всем числовым и нечисловым столбцам с помощью функции `describe()`.\n",
        "3. Узнайте размеры датасета с помощью функции `shape`.\n",
        "4. Выведите 4 первые строки датасета."
      ]
    },
    {
      "cell_type": "code",
      "metadata": {
        "colab": {
          "base_uri": "https://localhost:8080/"
        },
        "id": "jGJgLRDXNGjN",
        "outputId": "5bb08b3d-1f33-40a7-fd47-6d3eb3d136eb"
      },
      "source": [
        "import pandas as pd\n",
        "from google.colab import drive\n",
        "print(\"1.\")\n",
        "drive.mount('/content/drive', force_remount=True)\n",
        "file = pd.read_csv('/content/drive/My Drive/py/penguins_size.csv')\n",
        "print(\"2.\")\n",
        "print(\"Number:\")\n",
        "print(file.describe(), end=\"\\n\\n\")\n",
        "print(\"Not Number:\")\n",
        "print(file.describe(include=['O']), end=\"\\n\\n\")\n",
        "print(\"3.Dimensions of the data:\" + file.shape.__str__(), end=\"\\n\\n\")\n",
        "print(\"4.\")\n",
        "print(file.head(4))\n"
      ],
      "execution_count": null,
      "outputs": [
        {
          "output_type": "stream",
          "name": "stdout",
          "text": [
            "1.\n",
            "Mounted at /content/drive\n",
            "2.\n",
            "Number:\n",
            "       culmen_length_mm  culmen_depth_mm  flipper_length_mm  body_mass_g\n",
            "count        342.000000       342.000000         342.000000   342.000000\n",
            "mean          43.921930        17.151170         200.915205  4201.754386\n",
            "std            5.459584         1.974793          14.061714   801.954536\n",
            "min           32.100000        13.100000         172.000000  2700.000000\n",
            "25%           39.225000        15.600000         190.000000  3550.000000\n",
            "50%           44.450000        17.300000         197.000000  4050.000000\n",
            "75%           48.500000        18.700000         213.000000  4750.000000\n",
            "max           59.600000        21.500000         231.000000  6300.000000\n",
            "\n",
            "Not Number:\n",
            "       species  island   sex\n",
            "count      344     344   334\n",
            "unique       3       3     3\n",
            "top     Adelie  Biscoe  MALE\n",
            "freq       152     168   168\n",
            "\n",
            "3.Dimensions of the data:(344, 7)\n",
            "\n",
            "4.\n",
            "  species     island  culmen_length_mm  ...  flipper_length_mm  body_mass_g     sex\n",
            "0  Adelie  Torgersen              39.1  ...              181.0       3750.0    MALE\n",
            "1  Adelie  Torgersen              39.5  ...              186.0       3800.0  FEMALE\n",
            "2  Adelie  Torgersen              40.3  ...              195.0       3250.0  FEMALE\n",
            "3  Adelie  Torgersen               NaN  ...                NaN          NaN     NaN\n",
            "\n",
            "[4 rows x 7 columns]\n"
          ]
        }
      ]
    },
    {
      "cell_type": "markdown",
      "metadata": {
        "id": "5YqJrXCxIxuI"
      },
      "source": [
        "# Задание 1 (1 балл)"
      ]
    },
    {
      "cell_type": "markdown",
      "metadata": {
        "id": "fDuzlPwPOWzv"
      },
      "source": [
        "1. Узнайте, сколько видов пингвинов представлено в таблице.\n",
        "2. Посчитайте долю пингвинов каждого вида. "
      ]
    },
    {
      "cell_type": "code",
      "metadata": {
        "colab": {
          "base_uri": "https://localhost:8080/"
        },
        "id": "RqURVZSOIvfO",
        "outputId": "adad4600-c24d-422e-f206-1612d700933f"
      },
      "source": [
        "import numpy as np\n",
        "import pandas as pd\n",
        "\n",
        "data = pd.read_csv('/content/drive/My Drive/py/penguins_size.csv')\n",
        "data_list = data['species'].tolist()\n",
        "total_NUM = len(data_list)\n",
        "num = len(np.unique(data_list).tolist())\n",
        "print(\"1.Number of species:\" + num.__str__())\n",
        "count_list = pd.value_counts(data_list)\n",
        "print(\"2.\")\n",
        "print(count_list.apply(lambda x: format(x * 100 / total_NUM, '.1f').__str__() + \"%\"))"
      ],
      "execution_count": null,
      "outputs": [
        {
          "name": "stdout",
          "output_type": "stream",
          "text": [
            "1.Number of species:3\n",
            "2.\n",
            "Adelie       44.2%\n",
            "Gentoo       36.0%\n",
            "Chinstrap    19.8%\n",
            "dtype: object\n"
          ]
        }
      ]
    },
    {
      "cell_type": "markdown",
      "metadata": {
        "id": "N7mTAMM4VIqY"
      },
      "source": [
        "# Задание 2 (1 балл)"
      ]
    },
    {
      "cell_type": "markdown",
      "metadata": {
        "id": "jVwfcjouVIqZ"
      },
      "source": [
        "1. Сколько островов, на которых обитают пингвины, представлено в таблице?\n",
        "2. Выведите количество пингвинов, обитающих на каждом из островов."
      ]
    },
    {
      "cell_type": "code",
      "metadata": {
        "colab": {
          "base_uri": "https://localhost:8080/"
        },
        "id": "uoSg92FEVIqZ",
        "outputId": "d7e80717-78e3-4ada-fa27-53fa44eebc1f"
      },
      "source": [
        "import numpy as np\n",
        "import pandas as pd\n",
        "\n",
        "data = pd.read_csv('/content/drive/My Drive/py/penguins_size.csv')\n",
        "data_list = data['island'].tolist()\n",
        "num = len(np.unique(data_list).tolist())\n",
        "print(\"1.Number of Island:\" + num.__str__())\n",
        "count_list = pd.value_counts(data_list)\n",
        "print(\"2.Number of penguins per island:\")\n",
        "print(count_list)"
      ],
      "execution_count": null,
      "outputs": [
        {
          "name": "stdout",
          "output_type": "stream",
          "text": [
            "1.Number of Island:3\n",
            "2.Number of penguins per island:\n",
            "Biscoe       168\n",
            "Dream        124\n",
            "Torgersen     52\n",
            "dtype: int64\n"
          ]
        }
      ]
    },
    {
      "cell_type": "markdown",
      "metadata": {
        "id": "j1NfVIONI2dW"
      },
      "source": [
        "# Задание 3 (1 балл)"
      ]
    },
    {
      "cell_type": "markdown",
      "metadata": {
        "id": "fSXbSRCZOsgg"
      },
      "source": [
        "1. Найдите id пингвина с самым длинным клювом и с самым коротким. Выведите всю информацию о каждом из этих пингвинов в виде таблицы.\n",
        "2. Посчитайте, насколько самый длинный клюв длиннее самого короткого."
      ]
    },
    {
      "cell_type": "code",
      "metadata": {
        "colab": {
          "base_uri": "https://localhost:8080/"
        },
        "id": "dch9AAIrI2dZ",
        "outputId": "ffd3ef15-5494-4e0c-a75e-bfb5e535acd7"
      },
      "source": [
        "import pandas as pd\n",
        "\n",
        "data = pd.read_csv('/content/drive/My Drive/py/penguins_size.csv')\n",
        "data_list = data['culmen_length_mm']\n",
        "max_len = data_list.max()\n",
        "min_len = data_list.min()\n",
        "index_of_max_len = data[(data_list == max_len)].index.tolist().pop()\n",
        "index_of_min_len = data[(data_list == min_len)].index.tolist().pop()\n",
        "print(\"1.\")\n",
        "print(\"The ID of the penguin with the longest culmen: \" + str(index_of_max_len))\n",
        "print(\"The ID of the penguin with the shortest culmen: \" + str(index_of_min_len))\n",
        "print(\"The form of this two penguins:\")\n",
        "list_of_two_penguins = data[(data_list == max_len) | (data_list == min_len)]\n",
        "print(list_of_two_penguins)\n",
        "print(\"2.The difference between the longest and shortest culmen: \" + str(max_len - min_len) + \"mm\")\n"
      ],
      "execution_count": null,
      "outputs": [
        {
          "name": "stdout",
          "output_type": "stream",
          "text": [
            "1.\n",
            "The ID of the penguin with the longest culmen: 253\n",
            "The ID of the penguin with the shortest culmen: 142\n",
            "The form of this two penguins:\n",
            "    species  island  culmen_length_mm  ...  flipper_length_mm  body_mass_g     sex\n",
            "142  Adelie   Dream              32.1  ...              188.0       3050.0  FEMALE\n",
            "253  Gentoo  Biscoe              59.6  ...              230.0       6050.0    MALE\n",
            "\n",
            "[2 rows x 7 columns]\n",
            "2.The difference between the longest and shortest culmen: 27.5mm\n"
          ]
        }
      ]
    },
    {
      "cell_type": "markdown",
      "metadata": {
        "id": "gQd_Jgn2I2lL"
      },
      "source": [
        "# Задание 4 (1.5 балла)"
      ]
    },
    {
      "cell_type": "markdown",
      "metadata": {
        "id": "ymI_48D_PddK"
      },
      "source": [
        "1. Найдите среднее соотношение между длиной и глубиной клюва.\n",
        "2. Найдите среднее соотношение между массой тела пингвина и длиной его ласт.\n",
        "3. Постройте корреляционную матрицу для значений столбцов `culmen_length_mm`, `culmen_depth_mm`, `flipper_length_mm`, `body_mass_g`."
      ]
    },
    {
      "cell_type": "code",
      "metadata": {
        "colab": {
          "base_uri": "https://localhost:8080/",
          "height": 175
        },
        "id": "NliQL8sUI2lO",
        "outputId": "9ba95e7b-735c-46da-ab97-e017b4fae6f7"
      },
      "source": [
        "import numpy as np\n",
        "import pandas as pd\n",
        "\n",
        "data = pd.read_csv('/content/drive/My Drive/py/penguins_size.csv')\n",
        "c_length_depth_list = data[(~np.isnan(data['culmen_length_mm'])) | (~np.isnan(data['culmen_depth_mm']))][\n",
        "    ['culmen_length_mm', 'culmen_depth_mm']]\n",
        "c_length_depth_ratio_df = c_length_depth_list.groupby([\"culmen_length_mm\", \"culmen_depth_mm\"]).apply(\n",
        "    lambda list, x, y: (list[x] / list[y]).sum() / len(list[x]), \"culmen_length_mm\", \"culmen_depth_mm\")\n",
        "c_length_depth_average_ratio = c_length_depth_ratio_df.sum() / c_length_depth_ratio_df.count()\n",
        "print(\"1.The average ratio between culmen length and depth: \",end='')\n",
        "print(format(c_length_depth_average_ratio, \".4f\"))\n",
        "\n",
        "f_length_mass_g_list = data[(~np.isnan(data['body_mass_g'])) | (~np.isnan(data['flipper_length_mm']))][\n",
        "    ['body_mass_g', 'flipper_length_mm']]\n",
        "f_length_mass_g_ratio_df = f_length_mass_g_list.groupby([\"body_mass_g\", \"flipper_length_mm\"]).apply(\n",
        "    lambda list, x, y: (list[x] / list[y]).sum() / len(list[x]), \"body_mass_g\", \"flipper_length_mm\")\n",
        "f_length_mass_g_average_ratio = f_length_mass_g_ratio_df.sum() / f_length_mass_g_ratio_df.count()\n",
        "print(\"2.The average ratio between the weight of a penguin and the length of its flipper: \",end='')\n",
        "print(format(f_length_mass_g_average_ratio, \".4f\"))\n",
        "\n",
        "df_of_four_columns=data[(~np.isnan(data['culmen_length_mm'])) | (~np.isnan(data['culmen_depth_mm']))|(~np.isnan(data['body_mass_g'])) | (~np.isnan(data['flipper_length_mm']))][\n",
        "    ['culmen_length_mm', 'culmen_depth_mm', 'flipper_length_mm', 'body_mass_g']]\n",
        "print(\"3.Correlation Matrix: \")\n",
        "df_of_four_columns.corr().style.background_gradient(cmap='coolwarm',axis=None).set_precision(4)\n"
      ],
      "execution_count": null,
      "outputs": [
        {
          "name": "stdout",
          "output_type": "stream",
          "text": [
            "1.The average ratio between culmen length and depth: 2.6061\n",
            "2.The average ratio between the weight of a penguin and the length of its flipper: 20.8164\n",
            "3.Correlation Matrix: \n"
          ]
        },
        {
          "data": {
            "text/html": [
              "<style  type=\"text/css\" >\n",
              "#T_d8cc0a8a_2f3a_11ec_aac0_0242ac1c0002row0_col0,#T_d8cc0a8a_2f3a_11ec_aac0_0242ac1c0002row1_col1,#T_d8cc0a8a_2f3a_11ec_aac0_0242ac1c0002row2_col2,#T_d8cc0a8a_2f3a_11ec_aac0_0242ac1c0002row3_col3{\n",
              "            background-color:  #b40426;\n",
              "            color:  #f1f1f1;\n",
              "        }#T_d8cc0a8a_2f3a_11ec_aac0_0242ac1c0002row0_col1,#T_d8cc0a8a_2f3a_11ec_aac0_0242ac1c0002row1_col0{\n",
              "            background-color:  #82a6fb;\n",
              "            color:  #000000;\n",
              "        }#T_d8cc0a8a_2f3a_11ec_aac0_0242ac1c0002row0_col2,#T_d8cc0a8a_2f3a_11ec_aac0_0242ac1c0002row2_col0{\n",
              "            background-color:  #f08b6e;\n",
              "            color:  #000000;\n",
              "        }#T_d8cc0a8a_2f3a_11ec_aac0_0242ac1c0002row0_col3,#T_d8cc0a8a_2f3a_11ec_aac0_0242ac1c0002row3_col0{\n",
              "            background-color:  #f59c7d;\n",
              "            color:  #000000;\n",
              "        }#T_d8cc0a8a_2f3a_11ec_aac0_0242ac1c0002row1_col2,#T_d8cc0a8a_2f3a_11ec_aac0_0242ac1c0002row2_col1{\n",
              "            background-color:  #3b4cc0;\n",
              "            color:  #f1f1f1;\n",
              "        }#T_d8cc0a8a_2f3a_11ec_aac0_0242ac1c0002row1_col3,#T_d8cc0a8a_2f3a_11ec_aac0_0242ac1c0002row3_col1{\n",
              "            background-color:  #506bda;\n",
              "            color:  #000000;\n",
              "        }#T_d8cc0a8a_2f3a_11ec_aac0_0242ac1c0002row2_col3,#T_d8cc0a8a_2f3a_11ec_aac0_0242ac1c0002row3_col2{\n",
              "            background-color:  #d0473d;\n",
              "            color:  #f1f1f1;\n",
              "        }</style><table id=\"T_d8cc0a8a_2f3a_11ec_aac0_0242ac1c0002\" ><thead>    <tr>        <th class=\"blank level0\" ></th>        <th class=\"col_heading level0 col0\" >culmen_length_mm</th>        <th class=\"col_heading level0 col1\" >culmen_depth_mm</th>        <th class=\"col_heading level0 col2\" >flipper_length_mm</th>        <th class=\"col_heading level0 col3\" >body_mass_g</th>    </tr></thead><tbody>\n",
              "                <tr>\n",
              "                        <th id=\"T_d8cc0a8a_2f3a_11ec_aac0_0242ac1c0002level0_row0\" class=\"row_heading level0 row0\" >culmen_length_mm</th>\n",
              "                        <td id=\"T_d8cc0a8a_2f3a_11ec_aac0_0242ac1c0002row0_col0\" class=\"data row0 col0\" >1.0000</td>\n",
              "                        <td id=\"T_d8cc0a8a_2f3a_11ec_aac0_0242ac1c0002row0_col1\" class=\"data row0 col1\" >-0.2351</td>\n",
              "                        <td id=\"T_d8cc0a8a_2f3a_11ec_aac0_0242ac1c0002row0_col2\" class=\"data row0 col2\" >0.6562</td>\n",
              "                        <td id=\"T_d8cc0a8a_2f3a_11ec_aac0_0242ac1c0002row0_col3\" class=\"data row0 col3\" >0.5951</td>\n",
              "            </tr>\n",
              "            <tr>\n",
              "                        <th id=\"T_d8cc0a8a_2f3a_11ec_aac0_0242ac1c0002level0_row1\" class=\"row_heading level0 row1\" >culmen_depth_mm</th>\n",
              "                        <td id=\"T_d8cc0a8a_2f3a_11ec_aac0_0242ac1c0002row1_col0\" class=\"data row1 col0\" >-0.2351</td>\n",
              "                        <td id=\"T_d8cc0a8a_2f3a_11ec_aac0_0242ac1c0002row1_col1\" class=\"data row1 col1\" >1.0000</td>\n",
              "                        <td id=\"T_d8cc0a8a_2f3a_11ec_aac0_0242ac1c0002row1_col2\" class=\"data row1 col2\" >-0.5839</td>\n",
              "                        <td id=\"T_d8cc0a8a_2f3a_11ec_aac0_0242ac1c0002row1_col3\" class=\"data row1 col3\" >-0.4719</td>\n",
              "            </tr>\n",
              "            <tr>\n",
              "                        <th id=\"T_d8cc0a8a_2f3a_11ec_aac0_0242ac1c0002level0_row2\" class=\"row_heading level0 row2\" >flipper_length_mm</th>\n",
              "                        <td id=\"T_d8cc0a8a_2f3a_11ec_aac0_0242ac1c0002row2_col0\" class=\"data row2 col0\" >0.6562</td>\n",
              "                        <td id=\"T_d8cc0a8a_2f3a_11ec_aac0_0242ac1c0002row2_col1\" class=\"data row2 col1\" >-0.5839</td>\n",
              "                        <td id=\"T_d8cc0a8a_2f3a_11ec_aac0_0242ac1c0002row2_col2\" class=\"data row2 col2\" >1.0000</td>\n",
              "                        <td id=\"T_d8cc0a8a_2f3a_11ec_aac0_0242ac1c0002row2_col3\" class=\"data row2 col3\" >0.8712</td>\n",
              "            </tr>\n",
              "            <tr>\n",
              "                        <th id=\"T_d8cc0a8a_2f3a_11ec_aac0_0242ac1c0002level0_row3\" class=\"row_heading level0 row3\" >body_mass_g</th>\n",
              "                        <td id=\"T_d8cc0a8a_2f3a_11ec_aac0_0242ac1c0002row3_col0\" class=\"data row3 col0\" >0.5951</td>\n",
              "                        <td id=\"T_d8cc0a8a_2f3a_11ec_aac0_0242ac1c0002row3_col1\" class=\"data row3 col1\" >-0.4719</td>\n",
              "                        <td id=\"T_d8cc0a8a_2f3a_11ec_aac0_0242ac1c0002row3_col2\" class=\"data row3 col2\" >0.8712</td>\n",
              "                        <td id=\"T_d8cc0a8a_2f3a_11ec_aac0_0242ac1c0002row3_col3\" class=\"data row3 col3\" >1.0000</td>\n",
              "            </tr>\n",
              "    </tbody></table>"
            ],
            "text/plain": [
              "<pandas.io.formats.style.Styler at 0x7f95c694d810>"
            ]
          },
          "execution_count": 11,
          "metadata": {},
          "output_type": "execute_result"
        }
      ]
    },
    {
      "cell_type": "markdown",
      "metadata": {
        "id": "iec_syqwI20p"
      },
      "source": [
        "# Задание 5 (1 балл)"
      ]
    },
    {
      "cell_type": "markdown",
      "metadata": {
        "id": "XixgeBv_QAGx"
      },
      "source": [
        "1. О пингвинах какого вида в таблице больше всего недостающих данных? (Строк с `NaN`)\n",
        "2. Какой информации о пингвинах чаще всего не хватает?"
      ]
    },
    {
      "cell_type": "code",
      "metadata": {
        "colab": {
          "base_uri": "https://localhost:8080/"
        },
        "id": "YvjhDawkI20q",
        "outputId": "baa1177f-de96-47e7-f39f-c155460a4ec3"
      },
      "source": [
        "import numpy as np\n",
        "import pandas as pd\n",
        "\n",
        "data = pd.read_csv('/content/drive/My Drive/py/penguins_size.csv')\n",
        "df_missing_data = data[\n",
        "    (np.isnan(data['culmen_length_mm'])) | (np.isnan(data['culmen_depth_mm'])) | (\n",
        "        np.isnan(data['flipper_length_mm'])) | (np.isnan(data['body_mass_g'])) | (\n",
        "            (data['sex'] != \"FEMALE\") & (data['sex'] != \"MALE\"))]\n",
        "print(\"1.The penguin species with the least data is: \" + df_missing_data['species'].value_counts().idxmax())\n",
        "type_missing_inform = df_missing_data.isna().sum().idxmax()\n",
        "print(\"2.Types of most lost information: \" + type_missing_inform)"
      ],
      "execution_count": null,
      "outputs": [
        {
          "name": "stdout",
          "output_type": "stream",
          "text": [
            "1.The penguin species with the least data is: Adelie\n",
            "2.Types of most lost information: sex\n"
          ]
        }
      ]
    },
    {
      "cell_type": "markdown",
      "metadata": {
        "id": "KL8kIQMdI28Z"
      },
      "source": [
        "# Задание 6 (1 балл)"
      ]
    },
    {
      "cell_type": "markdown",
      "metadata": {
        "id": "Ielz_bg9QPyB"
      },
      "source": [
        "По данным из таблицы узнайте, как по размеру клюва, ласт и общей массе тела мужские особи отличаются от женских. Ответ по каждому признаку усредните."
      ]
    },
    {
      "cell_type": "code",
      "metadata": {
        "colab": {
          "base_uri": "https://localhost:8080/"
        },
        "id": "JQxlzePMI28a",
        "outputId": "6b70ba02-7562-4edd-9537-32953a099aa0"
      },
      "source": [
        "import numpy as np\n",
        "import pandas as pd\n",
        "\n",
        "data = pd.read_csv('/content/drive/My Drive/py/penguins_size.csv')\n",
        "df_male = data[(data['sex'] == \"MALE\")][[\"culmen_length_mm\", \"culmen_depth_mm\", \"body_mass_g\", \"flipper_length_mm\"]]\n",
        "df_female = data[(data['sex'] == \"FEMALE\")][[\"culmen_length_mm\", \"culmen_depth_mm\", \"body_mass_g\", \"flipper_length_mm\"]]\n",
        "average_male = df_male.mean()\n",
        "average_female = df_female.mean()\n",
        "print(\"The average difference between male and female culmen length is: \",end='')\n",
        "print(format(average_male.get(\"culmen_length_mm\")-average_female.get(\"culmen_length_mm\"),'.4f'),end=' mm\\n')\n",
        "print(\"The average difference between male and female culmen depth is: \",end='')\n",
        "print(format(average_male.get(\"culmen_depth_mm\")-average_female.get(\"culmen_depth_mm\"),'.4f'),end=' mm\\n')\n",
        "print(\"The average difference between male and female flipper length is: \",end='')\n",
        "print(format(average_male.get(\"flipper_length_mm\")-average_female.get(\"flipper_length_mm\"),'.4f'),end=' mm\\n')\n",
        "print(\"The average difference between the total weight of male and female is: \",end='')\n",
        "print(format(average_male.get(\"body_mass_g\")-average_female.get(\"body_mass_g\"),'.4f'),end=' g\\n')"
      ],
      "execution_count": null,
      "outputs": [
        {
          "name": "stdout",
          "output_type": "stream",
          "text": [
            "The average difference between male and female culmen length is: 3.7578 mm\n",
            "The average difference between male and female culmen depth is: 1.4656 mm\n",
            "The average difference between male and female flipper length is: 7.1423 mm\n",
            "The average difference between the total weight of male and female is: 683.4118 g\n"
          ]
        }
      ]
    },
    {
      "cell_type": "markdown",
      "metadata": {
        "id": "UG5AAwX7I3Eh"
      },
      "source": [
        "# Задание 7 (1 балл)"
      ]
    },
    {
      "cell_type": "markdown",
      "metadata": {
        "id": "lN06XT2gQv-L"
      },
      "source": [
        "По данным из таблицы узнайте, равномерно ли демографиески (процент мужских и женских особей) пингвины распределены по каждому из островов."
      ]
    },
    {
      "cell_type": "code",
      "metadata": {
        "colab": {
          "base_uri": "https://localhost:8080/"
        },
        "id": "XE0kXrP3I3Ei",
        "outputId": "ed87a7a1-9eff-485d-d759-86e126be32f5"
      },
      "source": [
        "import numpy as np\n",
        "import pandas as pd\n",
        "\n",
        "data = pd.read_csv('/content/drive/My Drive/py/penguins_size.csv')\n",
        "df_percentage = data['sex'].value_counts().apply(lambda x: format(x * 100 / len(data), '.2f'))\n",
        "print(\"Percentage of males between all penguins is: \" + df_percentage.get('MALE') + '%')\n",
        "print(\"Percentage of females between all penguins is: \" + df_percentage.get('FEMALE') + '%')\n",
        "list_of_island = np.unique(data[['island']]).tolist()\n",
        "flag = True\n",
        "for i in list_of_island:\n",
        "    df_island_male = data[['island', 'sex']].groupby(['island', 'sex']).get_group((i, 'MALE'))\n",
        "    df_island_female = data[['island', 'sex']].groupby(['island', 'sex']).get_group((i, 'FEMALE'))\n",
        "    total = len(df_island_male) + len(df_island_female)\n",
        "    male_percent = len(df_island_male) * 100 / total\n",
        "    female_percent = len(df_island_female) * 100 / total\n",
        "    print(\"Percentage of males penguins in \" + i + \" island is:\" + format(male_percent, '.2f') + '%')\n",
        "    print(\"Percentage of females penguins in \" + i + \" island is:\" + format(female_percent, '.2f') + '%')\n",
        "    if abs(male_percent - female_percent) > 3:\n",
        "        flag = False\n",
        "print(\"Evenly Distributed\") if flag else print(\"NOT Evenly Distributed\")\n"
      ],
      "execution_count": null,
      "outputs": [
        {
          "name": "stdout",
          "output_type": "stream",
          "text": [
            "Percentage of males between all penguins is: 48.84%\n",
            "Percentage of females between all penguins is: 47.97%\n",
            "Percentage of males penguins in Biscoe island is:50.92%\n",
            "Percentage of females penguins in Biscoe island is:49.08%\n",
            "Percentage of males penguins in Dream island is:50.41%\n",
            "Percentage of females penguins in Dream island is:49.59%\n",
            "Percentage of males penguins in Torgersen island is:48.94%\n",
            "Percentage of females penguins in Torgersen island is:51.06%\n",
            "Evenly Distributed\n"
          ]
        }
      ]
    },
    {
      "cell_type": "markdown",
      "metadata": {
        "id": "j0J6p25sI3MU"
      },
      "source": [
        "# Задание 8 (1.5 балла)"
      ]
    },
    {
      "cell_type": "markdown",
      "metadata": {
        "id": "f4aax6eARC9D"
      },
      "source": [
        "1. Узнайте, к какому виду принадлежат самые крупные по массе тела пингвины.\n",
        "2. В каком количестве популяция этого вида представлена на каждом из островов?\n",
        "3. Равное ли соотношение мужских и женских особей этого вида?"
      ]
    },
    {
      "cell_type": "code",
      "metadata": {
        "colab": {
          "base_uri": "https://localhost:8080/"
        },
        "id": "de8g7fqQI3MV",
        "outputId": "a920335d-a6b0-457b-cbc0-169caeb08a48"
      },
      "source": [
        "import numpy as np\n",
        "import pandas as pd\n",
        "\n",
        "data = pd.read_csv('/content/drive/My Drive/py/penguins_size.csv')\n",
        "list_of_species = np.unique(data[['species']]).tolist()\n",
        "num_max = 0\n",
        "name_max = np.nan\n",
        "for i in list_of_species:\n",
        "    temp_df = data[(data['species'] == i)][['body_mass_g']]\n",
        "    average_weight = (temp_df.sum() / len(temp_df)).__float__()\n",
        "    if average_weight > num_max:\n",
        "        num_max = average_weight\n",
        "        name_max = i\n",
        "print(\"1.The penguin species with the heaviest weight is: \" + name_max)\n",
        "list_of_island = np.unique(data[['island']]).tolist()\n",
        "print(\"2.\", end='')\n",
        "for i in list_of_island:\n",
        "    temp_df = data[(data['species'] == name_max) & (data['island'] == i)]\n",
        "    print(\"In the \" + i + ' island have: ' + len(temp_df).__str__() + \" this species penguins\")\n",
        "num_male = len(data[(data['species'] == name_max) & (data['sex'] == \"MALE\")])\n",
        "num_female = len(data[(data['species'] == name_max) & (data['sex'] == \"FEMALE\")])\n",
        "print(\"3.The ratio of males to females of this species equal\") if num_female == num_male else print(\n",
        "    \"3.The ratio of males to females of this species NOT equal\")"
      ],
      "execution_count": null,
      "outputs": [
        {
          "name": "stdout",
          "output_type": "stream",
          "text": [
            "1.The penguin species with the heaviest weight is: Gentoo\n",
            "2.In the Biscoe island have: 124 this species penguins\n",
            "In the Dream island have: 0 this species penguins\n",
            "In the Torgersen island have: 0 this species penguins\n",
            "3.The ratio of males to females of this species NOT equal\n"
          ]
        }
      ]
    }
  ]
}